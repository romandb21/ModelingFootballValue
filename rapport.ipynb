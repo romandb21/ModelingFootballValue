{
 "cells": [
  {
   "cell_type": "markdown",
   "metadata": {},
   "source": [
    "# <u>**Modélisation statistique de la valeur des joueurs de football à partir de leurs performances.**</u>\n",
    "\n",
    "Par Roman Dupraz-Bardou, Lenny Ouakil et Paul Lemoine Vandermoere\n",
    "\n",
    "## <u>**Introduction :**</u>\n",
    "\n",
    "L’évaluation de la valeur des joueurs est une composante clé dans le football moderne. Des plateformes comme Transfermarkt et le CIES fournissent des estimations, mais les clubs cherchent souvent à obtenir des informations plus précises basées sur des performances actualisées. Ce projet vise à construire un modèle qui estime la valeur des joueurs à partir de diverses sources de données sur les performances (open data, scraping, API), puis à comparer les estimations avec celles des plateformes publiques comme Transfermarkt ou le CIES. Pour cela, nous nous concentrerons sur les sept grands championnats européens (Premier League, Ligue 1, Bundesliga, Liga, Serie A, Eredivisie, Liga Portugal) de 2015 à 2024 (championnats écourtés pour cause de pandémie du covid19).\n",
    "\n",
    "Ainsi, nous nous attendons à observer une corrélation positive entre les performances des joueurs (nombre de buts, de passes décisives, taux de clean sheet...) et leur valeur. Afin d'obtenir un nombre conséquent de données nécessaires à la construction de ce modèle, nous utiliserons des API comme API Football qui offrent des statistiques détaillées sur les performances des joueurs des sept grands championnats européens (xG, passes clés, interceptions, dribbles, etc.), du scraping depuis des plateformes comme Transfermarkt pour récupérer les valeurs marchandes publiques des joueurs. Il pourrait aussi être intéressant d'intégrer des variables démographiques et/ou caractéristiques (âge, position, durée du contrat) depuis des sources telles que Transfermarkt ou d'autres bases de données disponibles en open data. \n",
    "\n",
    "### <u> Sommaire</u>\n",
    "\n",
    "1. [Installation](#installation)\n",
    "2. [Obtention des données](#obtention-des-données)\n",
    "   - [Utilisation d'API](#utilisation-d'api)\n",
    "   - [Scraping des données de valeur marchande](#scraping-des-données-de-valeur-marchande)\n",
    "   - [Scraping des données de performances depuis FBref](#scraping-depuis-fbref)\n",
    "   - [Cartographie](#cartographie)\n",
    "3. [Statistiques descriptives](#statistiques-descriptives)\n",
    "4. [Modèle de prédiction](#modèle-de-prédiction)\n",
    "5. [Conclusion](#conclusion)\n",
    "\n",
    "\n",
    "<a id=\"installation\"></a>\n",
    "## <u>**1. Installation** </u>\n",
    "\n",
    "Afin de construire ce projet, nous avons eu besoin de différentes librairies : \n"
   ]
  },
  {
   "cell_type": "code",
   "execution_count": 1,
   "metadata": {},
   "outputs": [],
   "source": [
    "import requests\n",
    "import bs4\n",
    "from bs4 import BeautifulSoup\n",
    "import pandas as pd\n",
    "import geopandas as gpd\n",
    "import folium\n",
    "import webbrowser\n",
    "import matplotlib.pyplot as plt\n",
    "import matplotlib.patheffects as path_effects\n",
    "import time\n",
    "import os\n",
    "import random\n",
    "import json\n",
    "import io"
   ]
  },
  {
   "cell_type": "markdown",
   "metadata": {},
   "source": [
    "<a id=\"obtention-des-données\"></a>\n",
    "## <u>2. Obtention des données</u>\n",
    "\n",
    "<a id=\"utilisation-d'api\"></a>\n",
    "### <u> Utilisation d'API </u>\n",
    "\n",
    "Dans un premier temps, il nous a paru intéressant d'utiliser des API afin de récupérer des données essentielles sur les joueurs. Il existe différentes API sur le sujet, mais pour des raisons d'efficacité, nous nous focaliserons sur celle fournie par Footballdata.org, dont le plan gratuit permet d'extraire davantage d'informations. Avec cette API, nous avons accès aux informations élémentaires sur les équipes de 10 championnats : Champions League, Primeira Liga, Premier League, Championship, Ligue 1, Eredivisie, Bundesliga, Serie A, Liga ainsi que la Serie A brésilienne. Nous sommes aussi en mesure de fournir des données de l'Euro 2024 et de la Coupe du Monde 2022.\n",
    "\n",
    "Toutefois, nous nous concentrons ici sur les sept grands championnats européens, dont les ID sont 2021 (Premier League), 2014 (Liga), 2015 (Ligue 1), 2002 (Bundesliga), 2019 (Serie A), 2003 (Eredivisie), 2017 (Primeira Liga). Nous pouvons ainsi accéder à différentes informations sur les équipes qui composent ces championnats. Prenons le cas de la Premier League :"
   ]
  },
  {
   "cell_type": "code",
   "execution_count": 2,
   "metadata": {},
   "outputs": [
    {
     "ename": "ModuleNotFoundError",
     "evalue": "No module named 'infoapi'",
     "output_type": "error",
     "traceback": [
      "\u001b[0;31m---------------------------------------------------------------------------\u001b[0m",
      "\u001b[0;31mModuleNotFoundError\u001b[0m                       Traceback (most recent call last)",
      "Cell \u001b[0;32mIn[2], line 1\u001b[0m\n\u001b[0;32m----> 1\u001b[0m \u001b[38;5;28;01mfrom\u001b[39;00m \u001b[38;5;21;01minfoapi\u001b[39;00m \u001b[38;5;28;01mimport\u001b[39;00m get_teams \n\u001b[1;32m      3\u001b[0m get_teams(\u001b[38;5;241m2021\u001b[39m) \n",
      "\u001b[0;31mModuleNotFoundError\u001b[0m: No module named 'infoapi'"
     ]
    }
   ],
   "source": [
    "from infoapi import get_teams \n",
    "\n",
    "get_teams(2021) \n"
   ]
  },
  {
   "cell_type": "markdown",
   "metadata": {},
   "source": [
    "Ainsi, grâce à ce data frame nous sommes en capacité d'observer les équipes présentes dans le championnat anglais, mais aussi leur ID. Cela nous permettra ensuite de pouvoir réaliser des recherches plus poussées sur ces équipes afin de nous concentrer sur les joueurs. Regardons plus en détail l'effectif de Manchester United, à l'aide d'un data frame ainsi que d'une représentation par poste: "
   ]
  },
  {
   "cell_type": "code",
   "execution_count": null,
   "metadata": {},
   "outputs": [],
   "source": [
    "from infoapi import get_players \n",
    "from infoapi import draw_team\n",
    "\n",
    "get_players(66) #crée le data frame de l'effectif\n",
    "draw_team(66) #crée une représentation de l'effectif par poste "
   ]
  },
  {
   "cell_type": "markdown",
   "metadata": {},
   "source": [
    "Nous avons ainsi pu extraire des informations essentielles sur les joueurs de Manchester United. Toutefois, le plan gratuit ne nous permet pas d'accéder à la valeur marchande des joueurs, pourtant centrale dans notre projet. Il sera donc nécessaire d'utiliser d'autres moyens pour l'obtenir. C'est ce que nous allons voir désormais."
   ]
  },
  {
   "cell_type": "markdown",
   "metadata": {},
   "source": [
    "<a id=\"scraping-des-données-de-valeur-marchande\"></a>\n",
    "### <u>Scraping des données de valeur marchande </u>\n",
    "\n",
    "''' Là Roman raconte sa partie'''"
   ]
  },
  {
   "cell_type": "code",
   "execution_count": null,
   "metadata": {},
   "outputs": [],
   "source": [
    "'''Code de Roman sur la partie valeur marchande\n",
    "\n",
    "Scraping plus court donc à voir si on fait tourner ou pas (question de reproductibilité)'''"
   ]
  },
  {
   "cell_type": "markdown",
   "metadata": {},
   "source": [
    "<a id=\"scraping-depuis-fbref\"></a>\n",
    "### <u> Scraping des données de performances depuis FBref </u>\n",
    "\n",
    "Dans le but de diversifier nos sources de données sur les joueurs, nous nous sommes aussi concentré sur le scraping des tableaux de données présents dans le site [FBref.com](https://fbref.com/en/). FBref est un site spécialisé dans les statistiques et les analyses détaillées de football et offre des données complètes sur les joueurs, les équipes et les compétitions du monde entier. Comme précisé précédemment, nous nous sommes accordés pour restreindre l'étude sur les 7 grands championnats européens (pour rappel : English Premier League , Spanish LaLiga, French Ligue 1, German Bundesliga, Italian Serie A, Dutch Eredivisie, Portuguese Primeira Liga). Le but est de récupérer tous les joueurs ayant joué dans un des 7 championnats au moins une saison durant les 10 dernières saisons (de 2015-2016 à 2024-2025) et de scraper leurs statistiques au moins depuis 2010-2011. Nous scraperons d'abord les joueurs d'Eredivisie puis de Primeira Liga et enfin le top5 en une seule fois.\n",
    "\n",
    "\n"
   ]
  },
  {
   "cell_type": "markdown",
   "metadata": {},
   "source": [
    "Expliquons d'abord le procédé pour le scraping des joueurs d'Eredivisie. \n",
    "Nous commençons par coder une fonction qui nous donne tous les urls des clubs présents dans la ligue à une saison donnée. Pour cela, il faut accéder à la table qui contient tous les clubs de la ligue à une saison donnée dont l'id est \"results{season}231_overall\" et récupérer l'url de chaque club présent dans la table : "
   ]
  },
  {
   "cell_type": "code",
   "execution_count": 3,
   "metadata": {},
   "outputs": [],
   "source": [
    "def get_club_urls(league_url, season):\n",
    "    \"\"\"Get URLs for all clubs in the league for a specific season\"\"\"\n",
    "    HEADERS = {\n",
    "        'User-Agent': 'Mozilla/5.0 (Windows NT 10.0; Win64; x64) AppleWebKit/537.36 (KHTML, like Gecko) Chrome/91.0.4472.124 Safari/537.36'\n",
    "    }\n",
    "    response = requests.get(league_url, headers=HEADERS)\n",
    "    soup = BeautifulSoup(response.text, 'html.parser')\n",
    "\n",
    "    # Replace dynamic ID based on the season\n",
    "    table_id = f\"results{season}231_overall\"\n",
    "    clubs_table = soup.find(\"table\", id=table_id)\n",
    "    \n",
    "    if not clubs_table:\n",
    "        raise ValueError(f\"Could not find the clubs table with ID: {table_id}\")\n",
    "\n",
    "    club_links = []\n",
    "    for row in clubs_table.find_all(\"tr\"):\n",
    "        first_col = row.find(\"td\", {\"data-stat\": \"team\"})\n",
    "        if first_col and first_col.find(\"a\"):\n",
    "            link0 = \"https://fbref.com\" + first_col.find(\"a\")[\"href\"]\n",
    "            club_links.append(link0)\n",
    "    \n",
    "    return club_links"
   ]
  },
  {
   "cell_type": "markdown",
   "metadata": {},
   "source": [
    "Le dictionnaire HEADERS est utilisé pour définir des en-têtes HTTP personnalisés lors de la requête effectuée avec requests.get. Ces en-têtes sont principalement utiles pour éviter d'être bloqué par le serveur."
   ]
  },
  {
   "cell_type": "code",
   "execution_count": 4,
   "metadata": {},
   "outputs": [
    {
     "data": {
      "text/plain": [
       "['https://fbref.com/en/squads/e334d850/2023-2024/PSV-Eindhoven-Stats',\n",
       " 'https://fbref.com/en/squads/fb4ca611/2023-2024/Feyenoord-Stats',\n",
       " 'https://fbref.com/en/squads/a1f721d3/2023-2024/Twente-Stats',\n",
       " 'https://fbref.com/en/squads/3986b791/2023-2024/AZ-Alkmaar-Stats',\n",
       " 'https://fbref.com/en/squads/19c3f8c4/2023-2024/Ajax-Stats',\n",
       " 'https://fbref.com/en/squads/fc629994/2023-2024/NEC-Nijmegen-Stats',\n",
       " 'https://fbref.com/en/squads/2a428619/2023-2024/Utrecht-Stats',\n",
       " 'https://fbref.com/en/squads/146a68ce/2023-2024/Sparta-Rotterdam-Stats',\n",
       " 'https://fbref.com/en/squads/e33d6108/2023-2024/Go-Ahead-Eagles-Stats',\n",
       " 'https://fbref.com/en/squads/bd08295c/2023-2024/Fortuna-Sittard-Stats',\n",
       " 'https://fbref.com/en/squads/193ff7aa/2023-2024/Heerenveen-Stats',\n",
       " 'https://fbref.com/en/squads/e3db180b/2023-2024/Zwolle-Stats',\n",
       " 'https://fbref.com/en/squads/2b41acb5/2023-2024/Almere-City-Stats',\n",
       " 'https://fbref.com/en/squads/c882b88e/2023-2024/Heracles-Almelo-Stats',\n",
       " 'https://fbref.com/en/squads/bb14adb3/2023-2024/RKC-Waalwijk-Stats',\n",
       " 'https://fbref.com/en/squads/740cb7d4/2023-2024/Excelsior-Stats',\n",
       " 'https://fbref.com/en/squads/8783f4ee/2023-2024/Volendam-Stats',\n",
       " 'https://fbref.com/en/squads/209d7fa2/2023-2024/Vitesse-Stats']"
      ]
     },
     "execution_count": 4,
     "metadata": {},
     "output_type": "execute_result"
    }
   ],
   "source": [
    "get_club_urls(\"https://fbref.com/en/comps/23/2023-2024/2023-2024-Eredivisie-Stats\", \"2023-2024\")"
   ]
  },
  {
   "cell_type": "markdown",
   "metadata": {},
   "source": [
    "Ensuite il faut une fonction qui renvoie pour chaque club la liste d'url de chaque joueurs. On récupère la table de joueurs d'id \"stats_standard_23\" et on construit les liens pour avoir la page des joueurs sur toutes les compétitions confondues: "
   ]
  },
  {
   "cell_type": "code",
   "execution_count": 7,
   "metadata": {},
   "outputs": [],
   "source": [
    "def scrape_club_players(club_url):\n",
    "    \"\"\"Get player links for a specific club\"\"\"\n",
    "    HEADERS = {\n",
    "        'User-Agent': 'Mozilla/5.0 (Windows NT 10.0; Win64; x64) AppleWebKit/537.36 (KHTML, like Gecko) Chrome/91.0.4472.124 Safari/537.36'\n",
    "    }\n",
    "    time.sleep(random.uniform(3, 4))  # random delay\n",
    "    \n",
    "    response = requests.get(club_url, headers=HEADERS)\n",
    "    soup = BeautifulSoup(response.text, 'html.parser')\n",
    "    \n",
    "    players_table = soup.find(\"table\", id=\"stats_standard_23\")\n",
    "    \n",
    "    if not players_table:\n",
    "        print(f\"Warning: no players table for {club_url} \")\n",
    "        return []\n",
    "\n",
    "    player_links = []\n",
    "    for row in players_table.find_all(\"tr\"):\n",
    "        player_cell = row.find(\"th\", {\"data-stat\": \"player\"})\n",
    "        if player_cell and player_cell.find(\"a\"):\n",
    "            player_link = player_cell.find(\"a\")[\"href\"]\n",
    "            \n",
    "            # Build complete URL\n",
    "            linkbefore = \"https://fbref.com\" + player_link\n",
    "            linkmid = linkbefore.split(\"/\")\n",
    "            linkmid.insert(6, \"all_comps\")\n",
    "            full_url = \"/\".join(linkmid) + \"-Stats---All-Competitions\"\n",
    "            \n",
    "            player_links.append(full_url)\n",
    "    \n",
    "    return player_links\n"
   ]
  },
  {
   "cell_type": "markdown",
   "metadata": {},
   "source": [
    "On utilise une pause random entre 3 et 4 secondes de pause de manière random pour que le serveur ait plus de mal à détecter le fait que le scraping est automatisé. "
   ]
  },
  {
   "cell_type": "code",
   "execution_count": 8,
   "metadata": {},
   "outputs": [
    {
     "data": {
      "text/plain": [
       "['https://fbref.com/en/players/abb3bb95/all_comps/Luuk-de-Jong-Stats---All-Competitions',\n",
       " 'https://fbref.com/en/players/8a2248b4/all_comps/Walter-Benitez-Stats---All-Competitions',\n",
       " 'https://fbref.com/en/players/403f5d20/all_comps/Olivier-Boscagli-Stats---All-Competitions',\n",
       " 'https://fbref.com/en/players/0caa2fd4/all_comps/Johan-Bakayoko-Stats---All-Competitions',\n",
       " 'https://fbref.com/en/players/82e9b1bb/all_comps/Jordan-Teze-Stats---All-Competitions',\n",
       " 'https://fbref.com/en/players/7483d9f9/all_comps/Andre-Ramalho-Stats---All-Competitions',\n",
       " 'https://fbref.com/en/players/2cfae697/all_comps/Jerdy-Schouten-Stats---All-Competitions',\n",
       " 'https://fbref.com/en/players/18fae4ac/all_comps/Joey-Veerman-Stats---All-Competitions',\n",
       " 'https://fbref.com/en/players/5976f83e/all_comps/Sergino-Dest-Stats---All-Competitions',\n",
       " 'https://fbref.com/en/players/6e44569a/all_comps/Guus-Til-Stats---All-Competitions',\n",
       " 'https://fbref.com/en/players/a5420709/all_comps/Malik-Tillman-Stats---All-Competitions',\n",
       " 'https://fbref.com/en/players/a69e4806/all_comps/Hirving-Lozano-Stats---All-Competitions',\n",
       " 'https://fbref.com/en/players/3ec9f005/all_comps/Ismael-Saibari-Stats---All-Competitions',\n",
       " 'https://fbref.com/en/players/5f09991f/all_comps/Patrick-van-Aanholt-Stats---All-Competitions',\n",
       " 'https://fbref.com/en/players/a29e5244/all_comps/Mauro-Junior-Stats---All-Competitions',\n",
       " 'https://fbref.com/en/players/8e034340/all_comps/Noa-Lang-Stats---All-Competitions',\n",
       " 'https://fbref.com/en/players/e8ef59da/all_comps/Yorbe-Vertessen-Stats---All-Competitions',\n",
       " 'https://fbref.com/en/players/52f7e3a7/all_comps/Isaac-Babadi-Stats---All-Competitions',\n",
       " 'https://fbref.com/en/players/bced0375/all_comps/Ibrahim-Sangare-Stats---All-Competitions',\n",
       " 'https://fbref.com/en/players/a39d11bc/all_comps/Armel-Bella-Kotchap-Stats---All-Competitions',\n",
       " 'https://fbref.com/en/players/a2b1ed42/all_comps/Ricardo-Pepi-Stats---All-Competitions',\n",
       " 'https://fbref.com/en/players/4b1d5a70/all_comps/Shurandy-Sambo-Stats---All-Competitions',\n",
       " 'https://fbref.com/en/players/2ffa6348/all_comps/Armando-Obispo-Stats---All-Competitions',\n",
       " 'https://fbref.com/en/players/510c6a3f/all_comps/Joel-Drommel-Stats---All-Competitions',\n",
       " 'https://fbref.com/en/players/bd448460/all_comps/Tygo-Land-Stats---All-Competitions',\n",
       " 'https://fbref.com/en/players/d2ddff2d/all_comps/Richy-Ledezma-Stats---All-Competitions',\n",
       " 'https://fbref.com/en/players/110338ae/all_comps/Boy-Waterman-Stats---All-Competitions',\n",
       " 'https://fbref.com/en/players/ffa90327/all_comps/Anwar-El-Ghazi-Stats---All-Competitions',\n",
       " 'https://fbref.com/en/players/2bfa31fc/all_comps/Jesper-Uneken-Stats---All-Competitions',\n",
       " 'https://fbref.com/en/players/2ff76adc/all_comps/Phillipp-Mwene-Stats---All-Competitions',\n",
       " 'https://fbref.com/en/players/16304ada/all_comps/Niek-Schiks-Stats---All-Competitions',\n",
       " 'https://fbref.com/en/players/9b23574b/all_comps/Jason-Van-Duiven-Stats---All-Competitions']"
      ]
     },
     "execution_count": 8,
     "metadata": {},
     "output_type": "execute_result"
    }
   ],
   "source": [
    "scrape_club_players(\"https://fbref.com/en/squads/e334d850/2023-2024/PSV-Eindhoven-Stats\")"
   ]
  },
  {
   "cell_type": "markdown",
   "metadata": {},
   "source": [
    "Et maintenant il nous faut une fonction qui, pour chaque joueur, récupère la table de données pour toutes les saisons plus récentes que 2010-2011. La table s'appelle soit \"stats_standard_expanded\" soit \"stats_standard_dom_lg\" selon les joueurs. Cependant la table du site  est une table dont les colonnes sont multiindexées : "
   ]
  },
  {
   "cell_type": "code",
   "execution_count": 27,
   "metadata": {},
   "outputs": [
    {
     "name": "stdout",
     "output_type": "stream",
     "text": [
      "MultiIndex([( 'Unnamed: 0_level_0',   'Season'),\n",
      "            ( 'Unnamed: 1_level_0',      'Age'),\n",
      "            ( 'Unnamed: 2_level_0',    'Squad'),\n",
      "            ( 'Unnamed: 3_level_0',  'Country'),\n",
      "            ( 'Unnamed: 4_level_0',     'Comp'),\n",
      "            ( 'Unnamed: 5_level_0',   'LgRank'),\n",
      "            ( 'Unnamed: 6_level_0',       'MP'),\n",
      "            (       'Playing Time',   'Starts'),\n",
      "            (       'Playing Time',      'Min'),\n",
      "            (       'Playing Time',      '90s'),\n",
      "            (        'Performance',      'Gls'),\n",
      "            (        'Performance',      'Ast'),\n",
      "            (        'Performance',      'G+A'),\n",
      "            (        'Performance',     'G-PK'),\n",
      "            (        'Performance',       'PK'),\n",
      "            (        'Performance',    'PKatt'),\n",
      "            (        'Performance',     'CrdY'),\n",
      "            (        'Performance',     'CrdR'),\n",
      "            (           'Expected',       'xG'),\n",
      "            (           'Expected',     'npxG'),\n",
      "            (           'Expected',      'xAG'),\n",
      "            (           'Expected', 'npxG+xAG'),\n",
      "            (        'Progression',     'PrgC'),\n",
      "            (        'Progression',     'PrgP'),\n",
      "            (        'Progression',     'PrgR'),\n",
      "            (     'Per 90 Minutes',      'Gls'),\n",
      "            (     'Per 90 Minutes',      'Ast'),\n",
      "            (     'Per 90 Minutes',      'G+A'),\n",
      "            (     'Per 90 Minutes',     'G-PK'),\n",
      "            (     'Per 90 Minutes',   'G+A-PK'),\n",
      "            (     'Per 90 Minutes',       'xG'),\n",
      "            (     'Per 90 Minutes',      'xAG'),\n",
      "            (     'Per 90 Minutes',   'xG+xAG'),\n",
      "            (     'Per 90 Minutes',     'npxG'),\n",
      "            (     'Per 90 Minutes', 'npxG+xAG'),\n",
      "            ('Unnamed: 35_level_0',  'Matches')],\n",
      "           )\n"
     ]
    }
   ],
   "source": [
    "#Exemple avec la table de Luuk de \n",
    "# Jong\n",
    "HEADERS = {\n",
    "        'User-Agent': 'Mozilla/5.0 (Windows NT 10.0; Win64; x64) AppleWebKit/537.36 (KHTML, like Gecko) Chrome/91.0.4472.124 Safari/537.36'\n",
    "    }\n",
    "response = requests.get(\"https://fbref.com/en/players/abb3bb95/Luuk-de-Jong\", headers=HEADERS)\n",
    "soup = BeautifulSoup(response.text, 'html.parser')\n",
    "stats_table = soup.find(\"table\", id=\"stats_standard_dom_lg\")\n",
    "stats_table_html = str(stats_table)\n",
    "stats_table = pd.read_html(io.StringIO(stats_table_html), header=[0, 1])[0]\n",
    "\n",
    "\n",
    "print(stats_table.columns)\n",
    "    "
   ]
  },
  {
   "cell_type": "markdown",
   "metadata": {},
   "source": [
    "Il faut alors créer une fonction qui aplatit les colonnes tout en les renommant de manière à ce que le nom de la colonne de l'index le plus haut soit suivi de ':' et du nom de la colonne du deuxième index (lorsque le premier index commence par 'Unnamed' , on choisi de garder seulement le nom du deuxième index). Pour donner un exemple : la colonne ('Performance','Gls') devient 'Performance : Gls' et \n",
    "('Unnamed: 0_level_0', 'Season') devient 'Season'."
   ]
  },
  {
   "cell_type": "code",
   "execution_count": 28,
   "metadata": {},
   "outputs": [],
   "source": [
    "def rename_columns_and_flatten(df):\n",
    "    new_columns = []\n",
    "    for col in df.columns:\n",
    "        # Si le niveau supérieur commence par \"Unnamed\", on garde uniquement le niveau inférieur\n",
    "        if str(col[0]).startswith(\"Unnamed\"):\n",
    "            new_columns.append(col[1])\n",
    "        else:\n",
    "            # Sinon, on combine le niveau supérieur et le niveau inférieur avec \":\"\n",
    "            new_columns.append(f\"{col[0]} : {col[1]}\")\n",
    "    \n",
    "    # Appliquer les nouveaux noms de colonnes\n",
    "    df.columns = new_columns\n",
    "    # Aplatir les colonnes si elles sont multi-indexées\n",
    "    if isinstance(df.columns, pd.MultiIndex):\n",
    "        df.columns = [col[0] for col in df.columns]\n",
    "    \n",
    "    return df"
   ]
  },
  {
   "cell_type": "code",
   "execution_count": 29,
   "metadata": {},
   "outputs": [
    {
     "name": "stdout",
     "output_type": "stream",
     "text": [
      "Index(['Season', 'Age', 'Squad', 'Country', 'Comp', 'LgRank', 'MP',\n",
      "       'Playing Time : Starts', 'Playing Time : Min', 'Playing Time : 90s',\n",
      "       'Performance : Gls', 'Performance : Ast', 'Performance : G+A',\n",
      "       'Performance : G-PK', 'Performance : PK', 'Performance : PKatt',\n",
      "       'Performance : CrdY', 'Performance : CrdR', 'Expected : xG',\n",
      "       'Expected : npxG', 'Expected : xAG', 'Expected : npxG+xAG',\n",
      "       'Progression : PrgC', 'Progression : PrgP', 'Progression : PrgR',\n",
      "       'Per 90 Minutes : Gls', 'Per 90 Minutes : Ast', 'Per 90 Minutes : G+A',\n",
      "       'Per 90 Minutes : G-PK', 'Per 90 Minutes : G+A-PK',\n",
      "       'Per 90 Minutes : xG', 'Per 90 Minutes : xAG',\n",
      "       'Per 90 Minutes : xG+xAG', 'Per 90 Minutes : npxG',\n",
      "       'Per 90 Minutes : npxG+xAG', 'Matches'],\n",
      "      dtype='object')\n"
     ]
    }
   ],
   "source": [
    "print(rename_columns_and_flatten(stats_table).columns)\n"
   ]
  },
  {
   "cell_type": "markdown",
   "metadata": {},
   "source": [
    "On peut maintenant coder une fonction qui récupère la table du joueur en rajoutant une colonne 'Player' qui donne le nom du joueur et en appliquant la fonction précédente pour reshape le dataframe obtenu. De plus, pour optimiser notre scraping en temps et en espace, nous avons rajouté un argument à la fonction 'existing_players' pour ne pas scraper la table d'un joueur si le joueur est déja dans existing_players "
   ]
  },
  {
   "cell_type": "code",
   "execution_count": 32,
   "metadata": {},
   "outputs": [],
   "source": [
    "def scrape_stats_player(player_url, existing_players):\n",
    "    \"\"\"Get statistics for a specific player if not already in the dataset.\"\"\"\n",
    "    player_name = player_url.split(\"/\")[-1].replace(\"-Stats---All-Competitions\", \"\").replace(\"-\", \" \")\n",
    "\n",
    "    if player_name in existing_players:\n",
    "        print(f\"Skipping {player_name} (already exists in the dataset).\")\n",
    "        return pd.DataFrame()\n",
    "\n",
    "    HEADERS = {\n",
    "        'User-Agent': 'Mozilla/5.0 (Windows NT 10.0; Win64; x64) AppleWebKit/537.36 (KHTML, like Gecko) Chrome/91.0.4472.124 Safari/537.36'\n",
    "    }\n",
    "    time.sleep(random.uniform(3, 4)) # random delay\n",
    "\n",
    "    try:\n",
    "        response = requests.get(player_url, headers=HEADERS)\n",
    "        soup = BeautifulSoup(response.text, 'html.parser')\n",
    "        stats_table = soup.find(\"table\", id=\"stats_standard_expanded\")\n",
    "        \n",
    "        if stats_table is None:\n",
    "            stats_table = soup.find(\"table\", id=\"stats_standard_dom_lg\")\n",
    "            \n",
    "        if stats_table is None:\n",
    "            print(f\"No stats table found for URL: {player_url}\")\n",
    "            return pd.DataFrame()\n",
    "\n",
    "        # Convertir le tableau HTML en DataFrame\n",
    "        try:\n",
    "            stats_table_html = str(stats_table)  # Convertir en chaîne\n",
    "            stats_table = pd.read_html(io.StringIO(stats_table_html), header=[0, 1])[0]\n",
    "        except ValueError as e:\n",
    "            print(f\"Error reading HTML table for {player_name}: {e}\")\n",
    "            return pd.DataFrame()\n",
    "\n",
    "        # Créer une copie explicite pour éviter le SettingWithCopyWarning\n",
    "        stats_table = stats_table.copy()\n",
    "\n",
    "        # Ajouter le nom du joueur\n",
    "        stats_table.loc[:, ('Unnamed: -1_level_0', 'Player')] = player_name\n",
    "\n",
    "        # Reorder columns for consistency\n",
    "        new_order = [('Unnamed: -1_level_0', 'Player')] + list(stats_table.columns[:-1])\n",
    "        stats_table = stats_table[new_order]\n",
    "\n",
    "        # Renommer les colonnes et les aplatir\n",
    "        stats_table = rename_columns_and_flatten(stats_table)\n",
    "\n",
    "        # Définir la liste des saisons autorisées\n",
    "        allowed_seasons = ['2010-2011', '2011-2012', '2012-2013', '2013-2014','2014-2015', '2015-2016', '2016-2017', '2017-2018', '2018-2019', '2019-2020', '2020-2021', '2021-2022', \n",
    "            '2022-2023', '2023-2024', '2024-2025']\n",
    "\n",
    "        season_column = 'Season'\n",
    "        if season_column in stats_table.columns:\n",
    "            stats_table = stats_table[stats_table[season_column].isin(allowed_seasons)]\n",
    "\n",
    "        return stats_table\n",
    "    except Exception as e:\n",
    "        print(f\"Error scraping stats for {player_name}: {e}\")\n",
    "        return pd.DataFrame()"
   ]
  },
  {
   "cell_type": "code",
   "execution_count": 42,
   "metadata": {},
   "outputs": [
    {
     "data": {
      "text/html": [
       "<div>\n",
       "<style scoped>\n",
       "    .dataframe tbody tr th:only-of-type {\n",
       "        vertical-align: middle;\n",
       "    }\n",
       "\n",
       "    .dataframe tbody tr th {\n",
       "        vertical-align: top;\n",
       "    }\n",
       "\n",
       "    .dataframe thead th {\n",
       "        text-align: right;\n",
       "    }\n",
       "</style>\n",
       "<table border=\"1\" class=\"dataframe\">\n",
       "  <thead>\n",
       "    <tr style=\"text-align: right;\">\n",
       "      <th></th>\n",
       "      <th>Player</th>\n",
       "      <th>Season</th>\n",
       "      <th>Age</th>\n",
       "      <th>Squad</th>\n",
       "      <th>Country</th>\n",
       "      <th>Comp</th>\n",
       "      <th>LgRank</th>\n",
       "      <th>MP</th>\n",
       "      <th>Playing Time : Starts</th>\n",
       "      <th>Playing Time : Min</th>\n",
       "      <th>...</th>\n",
       "      <th>Per 90 Minutes : Ast</th>\n",
       "      <th>Per 90 Minutes : G+A</th>\n",
       "      <th>Per 90 Minutes : G-PK</th>\n",
       "      <th>Per 90 Minutes : G+A-PK</th>\n",
       "      <th>Per 90 Minutes : xG</th>\n",
       "      <th>Per 90 Minutes : xAG</th>\n",
       "      <th>Per 90 Minutes : xG+xAG</th>\n",
       "      <th>Per 90 Minutes : npxG</th>\n",
       "      <th>Per 90 Minutes : npxG+xAG</th>\n",
       "      <th>Matches</th>\n",
       "    </tr>\n",
       "  </thead>\n",
       "  <tbody>\n",
       "    <tr>\n",
       "      <th>2</th>\n",
       "      <td>Luuk de Jong</td>\n",
       "      <td>2010-2011</td>\n",
       "      <td>19</td>\n",
       "      <td>Twente</td>\n",
       "      <td>nl NED</td>\n",
       "      <td>1. Eredivisie</td>\n",
       "      <td>2nd</td>\n",
       "      <td>32</td>\n",
       "      <td>31</td>\n",
       "      <td>2763</td>\n",
       "      <td>...</td>\n",
       "      <td>0.26</td>\n",
       "      <td>0.65</td>\n",
       "      <td>0.39</td>\n",
       "      <td>0.65</td>\n",
       "      <td>NaN</td>\n",
       "      <td>NaN</td>\n",
       "      <td>NaN</td>\n",
       "      <td>NaN</td>\n",
       "      <td>NaN</td>\n",
       "      <td>Matches</td>\n",
       "    </tr>\n",
       "    <tr>\n",
       "      <th>3</th>\n",
       "      <td>Luuk de Jong</td>\n",
       "      <td>2011-2012</td>\n",
       "      <td>20</td>\n",
       "      <td>Twente</td>\n",
       "      <td>nl NED</td>\n",
       "      <td>1. Eredivisie</td>\n",
       "      <td>6th</td>\n",
       "      <td>31</td>\n",
       "      <td>31</td>\n",
       "      <td>2761</td>\n",
       "      <td>...</td>\n",
       "      <td>0.26</td>\n",
       "      <td>1.08</td>\n",
       "      <td>0.78</td>\n",
       "      <td>1.04</td>\n",
       "      <td>NaN</td>\n",
       "      <td>NaN</td>\n",
       "      <td>NaN</td>\n",
       "      <td>NaN</td>\n",
       "      <td>NaN</td>\n",
       "      <td>Matches</td>\n",
       "    </tr>\n",
       "    <tr>\n",
       "      <th>4</th>\n",
       "      <td>Luuk de Jong</td>\n",
       "      <td>2012-2013</td>\n",
       "      <td>21</td>\n",
       "      <td>Gladbach</td>\n",
       "      <td>de GER</td>\n",
       "      <td>1. Bundesliga</td>\n",
       "      <td>8th</td>\n",
       "      <td>23</td>\n",
       "      <td>17</td>\n",
       "      <td>1407</td>\n",
       "      <td>...</td>\n",
       "      <td>0.13</td>\n",
       "      <td>0.51</td>\n",
       "      <td>0.38</td>\n",
       "      <td>0.51</td>\n",
       "      <td>NaN</td>\n",
       "      <td>NaN</td>\n",
       "      <td>NaN</td>\n",
       "      <td>NaN</td>\n",
       "      <td>NaN</td>\n",
       "      <td>Matches</td>\n",
       "    </tr>\n",
       "    <tr>\n",
       "      <th>5</th>\n",
       "      <td>Luuk de Jong</td>\n",
       "      <td>2013-2014</td>\n",
       "      <td>22</td>\n",
       "      <td>Gladbach</td>\n",
       "      <td>de GER</td>\n",
       "      <td>1. Bundesliga</td>\n",
       "      <td>6th</td>\n",
       "      <td>13</td>\n",
       "      <td>0</td>\n",
       "      <td>85</td>\n",
       "      <td>...</td>\n",
       "      <td>0.00</td>\n",
       "      <td>0.00</td>\n",
       "      <td>0.00</td>\n",
       "      <td>0.00</td>\n",
       "      <td>NaN</td>\n",
       "      <td>NaN</td>\n",
       "      <td>NaN</td>\n",
       "      <td>NaN</td>\n",
       "      <td>NaN</td>\n",
       "      <td>Matches</td>\n",
       "    </tr>\n",
       "    <tr>\n",
       "      <th>6</th>\n",
       "      <td>Luuk de Jong</td>\n",
       "      <td>2013-2014</td>\n",
       "      <td>22</td>\n",
       "      <td>Newcastle Utd</td>\n",
       "      <td>eng ENG</td>\n",
       "      <td>1. Premier League</td>\n",
       "      <td>10th</td>\n",
       "      <td>12</td>\n",
       "      <td>8</td>\n",
       "      <td>667</td>\n",
       "      <td>...</td>\n",
       "      <td>0.13</td>\n",
       "      <td>0.13</td>\n",
       "      <td>0.00</td>\n",
       "      <td>0.13</td>\n",
       "      <td>NaN</td>\n",
       "      <td>NaN</td>\n",
       "      <td>NaN</td>\n",
       "      <td>NaN</td>\n",
       "      <td>NaN</td>\n",
       "      <td>Matches</td>\n",
       "    </tr>\n",
       "  </tbody>\n",
       "</table>\n",
       "<p>5 rows × 37 columns</p>\n",
       "</div>"
      ],
      "text/plain": [
       "         Player     Season Age          Squad  Country               Comp  \\\n",
       "2  Luuk de Jong  2010-2011  19         Twente   nl NED      1. Eredivisie   \n",
       "3  Luuk de Jong  2011-2012  20         Twente   nl NED      1. Eredivisie   \n",
       "4  Luuk de Jong  2012-2013  21       Gladbach   de GER      1. Bundesliga   \n",
       "5  Luuk de Jong  2013-2014  22       Gladbach   de GER      1. Bundesliga   \n",
       "6  Luuk de Jong  2013-2014  22  Newcastle Utd  eng ENG  1. Premier League   \n",
       "\n",
       "  LgRank  MP Playing Time : Starts Playing Time : Min  ...  \\\n",
       "2    2nd  32                    31               2763  ...   \n",
       "3    6th  31                    31               2761  ...   \n",
       "4    8th  23                    17               1407  ...   \n",
       "5    6th  13                     0                 85  ...   \n",
       "6   10th  12                     8                667  ...   \n",
       "\n",
       "  Per 90 Minutes : Ast Per 90 Minutes : G+A Per 90 Minutes : G-PK  \\\n",
       "2                 0.26                 0.65                  0.39   \n",
       "3                 0.26                 1.08                  0.78   \n",
       "4                 0.13                 0.51                  0.38   \n",
       "5                 0.00                 0.00                  0.00   \n",
       "6                 0.13                 0.13                  0.00   \n",
       "\n",
       "  Per 90 Minutes : G+A-PK Per 90 Minutes : xG Per 90 Minutes : xAG  \\\n",
       "2                    0.65                 NaN                  NaN   \n",
       "3                    1.04                 NaN                  NaN   \n",
       "4                    0.51                 NaN                  NaN   \n",
       "5                    0.00                 NaN                  NaN   \n",
       "6                    0.13                 NaN                  NaN   \n",
       "\n",
       "  Per 90 Minutes : xG+xAG Per 90 Minutes : npxG Per 90 Minutes : npxG+xAG  \\\n",
       "2                     NaN                   NaN                       NaN   \n",
       "3                     NaN                   NaN                       NaN   \n",
       "4                     NaN                   NaN                       NaN   \n",
       "5                     NaN                   NaN                       NaN   \n",
       "6                     NaN                   NaN                       NaN   \n",
       "\n",
       "   Matches  \n",
       "2  Matches  \n",
       "3  Matches  \n",
       "4  Matches  \n",
       "5  Matches  \n",
       "6  Matches  \n",
       "\n",
       "[5 rows x 37 columns]"
      ]
     },
     "execution_count": 42,
     "metadata": {},
     "output_type": "execute_result"
    }
   ],
   "source": [
    "scrape_stats_player(\"https://fbref.com/en/players/abb3bb95/Luuk-de-Jong\", []).head()"
   ]
  },
  {
   "cell_type": "code",
   "execution_count": 43,
   "metadata": {},
   "outputs": [
    {
     "name": "stdout",
     "output_type": "stream",
     "text": [
      "Skipping Luuk de Jong (already exists in the dataset).\n"
     ]
    },
    {
     "data": {
      "text/html": [
       "<div>\n",
       "<style scoped>\n",
       "    .dataframe tbody tr th:only-of-type {\n",
       "        vertical-align: middle;\n",
       "    }\n",
       "\n",
       "    .dataframe tbody tr th {\n",
       "        vertical-align: top;\n",
       "    }\n",
       "\n",
       "    .dataframe thead th {\n",
       "        text-align: right;\n",
       "    }\n",
       "</style>\n",
       "<table border=\"1\" class=\"dataframe\">\n",
       "  <thead>\n",
       "    <tr style=\"text-align: right;\">\n",
       "      <th></th>\n",
       "    </tr>\n",
       "  </thead>\n",
       "  <tbody>\n",
       "  </tbody>\n",
       "</table>\n",
       "</div>"
      ],
      "text/plain": [
       "Empty DataFrame\n",
       "Columns: []\n",
       "Index: []"
      ]
     },
     "execution_count": 43,
     "metadata": {},
     "output_type": "execute_result"
    }
   ],
   "source": [
    "scrape_stats_player(\"https://fbref.com/en/players/abb3bb95/Luuk-de-Jong\", ['Luuk de Jong'])"
   ]
  },
  {
   "cell_type": "markdown",
   "metadata": {},
   "source": []
  },
  {
   "cell_type": "code",
   "execution_count": 44,
   "metadata": {},
   "outputs": [
    {
     "data": {
      "text/plain": [
       "'Code de Lenny pour le montrer au correcteur sans le faire tourner car il est long mdrr\\n\\nMettre le data frame csv dans un fichier csv et le lire avec pandas'"
      ]
     },
     "execution_count": 44,
     "metadata": {},
     "output_type": "execute_result"
    }
   ],
   "source": [
    "'''Code de Lenny pour le montrer au correcteur sans le faire tourner car il est long mdrr\n",
    "\n",
    "Mettre le data frame csv dans un fichier csv et le lire avec pandas'''"
   ]
  },
  {
   "cell_type": "markdown",
   "metadata": {},
   "source": [
    "<a id=\"cartographie\"></a>\n",
    "### <u>Cartographie </u>\n",
    "\n",
    "Dans le cadre de notre projet, nous avons aussi souhaité réutiliser des méthodes que nous avions découvertes lors du cours de *Python pour la data science*. C'est pourquoi nous avons voulu créer une nouvelle carte des stades de Ligue 1 et Ligue 2, actualisée à la saison 2024/2025, en distinguant les stades appartenant à des clubs de Ligue 1 et de Ligue 2."
   ]
  },
  {
   "cell_type": "code",
   "execution_count": 45,
   "metadata": {},
   "outputs": [
    {
     "ename": "ModuleNotFoundError",
     "evalue": "No module named 'mapping'",
     "output_type": "error",
     "traceback": [
      "\u001b[0;31m---------------------------------------------------------------------------\u001b[0m",
      "\u001b[0;31mModuleNotFoundError\u001b[0m                       Traceback (most recent call last)",
      "Cell \u001b[0;32mIn[45], line 1\u001b[0m\n\u001b[0;32m----> 1\u001b[0m \u001b[38;5;28;01mfrom\u001b[39;00m \u001b[38;5;21;01mmapping\u001b[39;00m \u001b[38;5;28;01mimport\u001b[39;00m retrieve_all_stadium_from_league\n\u001b[1;32m      4\u001b[0m \u001b[38;5;66;03m# URLs for different divisions\u001b[39;00m\n\u001b[1;32m      5\u001b[0m url_list \u001b[38;5;241m=\u001b[39m {\n\u001b[1;32m      6\u001b[0m     \u001b[38;5;124m\"\u001b[39m\u001b[38;5;124mL1\u001b[39m\u001b[38;5;124m\"\u001b[39m: \u001b[38;5;124m\"\u001b[39m\u001b[38;5;124mhttp://fr.wikipedia.org/wiki/Championnat_de_France_de_football_2024-2025\u001b[39m\u001b[38;5;124m\"\u001b[39m,\n\u001b[1;32m      7\u001b[0m     \u001b[38;5;124m\"\u001b[39m\u001b[38;5;124mL2\u001b[39m\u001b[38;5;124m\"\u001b[39m: \u001b[38;5;124m\"\u001b[39m\u001b[38;5;124mhttps://fr.wikipedia.org/wiki/Championnat_de_France_de_football_de_deuxi\u001b[39m\u001b[38;5;124m%\u001b[39m\u001b[38;5;124mC3\u001b[39m\u001b[38;5;124m%\u001b[39m\u001b[38;5;124mA8me_division_2024-2025\u001b[39m\u001b[38;5;124m\"\u001b[39m,\n\u001b[1;32m      8\u001b[0m }\n",
      "\u001b[0;31mModuleNotFoundError\u001b[0m: No module named 'mapping'"
     ]
    }
   ],
   "source": [
    "from mapping import retrieve_all_stadium_from_league\n",
    "\n",
    "\n",
    "# URLs for different divisions\n",
    "url_list = {\n",
    "    \"L1\": \"http://fr.wikipedia.org/wiki/Championnat_de_France_de_football_2024-2025\",\n",
    "    \"L2\": \"https://fr.wikipedia.org/wiki/Championnat_de_France_de_football_de_deuxi%C3%A8me_division_2024-2025\",\n",
    "}\n",
    "\n",
    "# Retrieve stadiums information for Ligue 1\n",
    "stades_ligue1 = retrieve_all_stadium_from_league(url_list, \"L1\")\n",
    "stades_ligue2 = retrieve_all_stadium_from_league(url_list, \"L2\")\n",
    "\n",
    "stades = pd.concat([stades_ligue1, stades_ligue2])\n",
    "\n",
    "stades = stades.dropna(subset=[\"latitude\", \"longitude\"])\n",
    "stades.loc[:, [\"latitude\", \"longitude\"]] = stades.loc[\n",
    "    :, [\"latitude\", \"longitude\"]\n",
    "].astype(float)\n",
    "stadium_locations = gpd.GeoDataFrame(\n",
    "    stades, geometry=gpd.points_from_xy(stades.longitude, stades.latitude)\n",
    ")\n",
    "\n",
    "center = stadium_locations[[\"latitude\", \"longitude\"]].mean().values.tolist()\n",
    "sw = stadium_locations[[\"latitude\", \"longitude\"]].min().values.tolist()\n",
    "ne = stadium_locations[[\"latitude\", \"longitude\"]].max().values.tolist()\n",
    "\n",
    "m = folium.Map(location=center, tiles=\"openstreetmap\")\n",
    "\n",
    "# I can add marker one by one on the map\n",
    "for i in range(0, len(stadium_locations)):\n",
    "    row = stadium_locations.iloc[i]\n",
    "    color = \"blue\" if row[\"division\"] == \"L1\" else \"green\"\n",
    "    folium.Marker(\n",
    "        [stadium_locations.iloc[i][\"latitude\"], stadium_locations.iloc[i][\"longitude\"]],\n",
    "        popup=stadium_locations.iloc[i][\"stade\"],  icon=folium.Icon(color=color)\n",
    "    ).add_to(m)\n",
    "\n",
    "m.fit_bounds([sw, ne])\n",
    "m.save(\"stadiums_map.html\")\n",
    "webbrowser.open(\"stadiums_map.html\")"
   ]
  },
  {
   "cell_type": "markdown",
   "metadata": {},
   "source": [
    "<a id=\"statistiques-descriptives\"></a>\n",
    "## <u>3. Statistiques descriptives</u>\n",
    "\n",
    "Il s'agit désormais d'utiliser les données que nous avons récupérées afin de mieux comprendre certains enjeux liés aux transferts de joueurs. "
   ]
  }
 ],
 "metadata": {
  "kernelspec": {
   "display_name": "base",
   "language": "python",
   "name": "python3"
  },
  "language_info": {
   "codemirror_mode": {
    "name": "ipython",
    "version": 3
   },
   "file_extension": ".py",
   "mimetype": "text/x-python",
   "name": "python",
   "nbconvert_exporter": "python",
   "pygments_lexer": "ipython3",
   "version": "3.12.7"
  }
 },
 "nbformat": 4,
 "nbformat_minor": 2
}
