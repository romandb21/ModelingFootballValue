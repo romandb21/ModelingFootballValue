{
 "cells": [
  {
   "cell_type": "markdown",
   "metadata": {},
   "source": [
    "# <u>**Modélisation statistique de la valeur des joueurs de football à partir de leurs performances.**</u>\n",
    "\n",
    "Par Roman Dupraz-Bardou, Lenny Ouakil et Paul Lemoine Vandermoere\n",
    "\n",
    "## <u>**Introduction :**</u>\n",
    "\n",
    "L’évaluation de la valeur des joueurs est une composante clé dans le football moderne. Des plateformes comme Transfermarkt et le CIES fournissent des estimations, mais les clubs cherchent souvent à obtenir des informations plus précises basées sur des performances actualisées. Ce projet vise à construire un modèle qui estime la valeur des joueurs à partir de diverses sources de données sur les performances (open data, scraping, API), puis à comparer les estimations avec celles des plateformes publiques comme Transfermarkt ou le CIES. Pour cela, nous nous concentrerons sur les sept grands championnats européens (Premier League, Ligue 1, Bundesliga, Liga, Serie A, Eredivisie, Liga Portugal) de 2015 à 2024 (championnats écourtés pour cause de pandémie du covid19).\n",
    "\n",
    "Ainsi, nous nous attendons à observer une corrélation positive entre les performances des joueurs (nombre de buts, de passes décisives, taux de clean sheet...) et leur valeur. Afin d'obtenir un nombre conséquent de données nécessaires à la construction de ce modèle, nous utiliserons des API comme API Football qui offrent des statistiques détaillées sur les performances des joueurs des sept grands championnats européens (xG, passes clés, interceptions, dribbles, etc.), du scraping depuis des plateformes comme Transfermarkt pour récupérer les valeurs marchandes publiques des joueurs. Il pourrait aussi être intéressant d'intégrer des variables démographiques et/ou caractéristiques (âge, position, durée du contrat) depuis des sources telles que Transfermarkt ou d'autres bases de données disponibles en open data. \n",
    "\n",
    "### <u> Sommaire</u>\n",
    "\n",
    "1. [Installation](#installation)\n",
    "2. [Obtention des données](#obtention-des-données)\n",
    "   - [Utilisation d'API](#utilisation-d'api)\n",
    "   - [Scraping des données de valeur marchande](#scraping-des-données-de-valeur-marchande)\n",
    "   - [Scraping des données de performances depuis FBref](#scraping-depuis-fbref)\n",
    "   - [Cartographie](#cartographie)\n",
    "3. [Statistiques descriptives](#statistiques-descriptives)\n",
    "4. [Modèle de prédiction](#modèle-de-prédiction)\n",
    "5. [Conclusion](#conclusion)\n",
    "\n",
    "\n",
    "<a id=\"installation\"></a>\n",
    "## <u>**1. Installation** </u>\n",
    "\n",
    "Afin de construire ce projet, nous avons eu besoin de différentes librairies : \n"
   ]
  },
  {
   "cell_type": "code",
   "execution_count": null,
   "metadata": {},
   "outputs": [],
   "source": [
    "import requests\n",
    "import bs4\n",
    "import pandas as pd\n",
    "import geopandas as gpd\n",
    "import folium\n",
    "import webbrowser\n",
    "import matplotlib.pyplot as plt\n",
    "import matplotlib.patheffects as path_effects"
   ]
  },
  {
   "cell_type": "markdown",
   "metadata": {},
   "source": [
    "<a id=\"obtention-des-données\"></a>\n",
    "## <u>2. Obtention des données</u>\n",
    "\n",
    "<a id=\"utilisation-d'api\"></a>\n",
    "### <u> Utilisation d'API </u>\n",
    "\n",
    "Dans un premier temps, il nous a paru intéressant d'utiliser des API afin de récupérer des données essentielles sur les joueurs. Il existe différentes API sur le sujet, mais pour des raisons d'efficacité, nous nous focaliserons sur celle fournie par Footballdata.org, dont le plan gratuit permet d'extraire davantage d'informations. Avec cette API, nous avons accès aux informations élémentaires sur les équipes de 10 championnats : Champions League, Primeira Liga, Premier League, Championship, Ligue 1, Eredivisie, Bundesliga, Serie A, Liga Santander ainsi que la Serie A brésilienne. Nous sommes aussi en mesure de fournir des données de l'Euro 2024 et de la Coupe du Monde 2022.\n",
    "\n",
    "Toutefois, nous nous concentrons ici sur les sept grands championnats européens, dont les ID sont 2021 (Premier League), 2014 (Liga Santander), 2015 (Ligue 1), 2002 (Bundesliga), 2019 (Serie A), 2003 (Eredivisie), 2017 (Primeira Liga). Nous pouvons ainsi accéder à différentes informations sur les équipes qui composent ces championnats. Prenons le cas de la Premier League :"
   ]
  },
  {
   "cell_type": "code",
   "execution_count": null,
   "metadata": {},
   "outputs": [],
   "source": [
    "from infoapi import get_teams \n",
    "\n",
    "get_teams(2021) \n"
   ]
  },
  {
   "cell_type": "markdown",
   "metadata": {},
   "source": [
    "Ainsi, grâce à ce data frame nous sommes en capacité d'observer les équipes présentes dans le championnat anglais, mais aussi leur ID. Cela nous permettra ensuite de pouvoir réaliser des recherches plus poussées sur ces équipes afin de nous concentrer sur les joueurs. Regardons plus en détail l'effectif de Manchester United, à l'aide d'un data frame ainsi que d'une représentation par poste: "
   ]
  },
  {
   "cell_type": "code",
   "execution_count": null,
   "metadata": {},
   "outputs": [],
   "source": [
    "from infoapi import get_players \n",
    "from infoapi import draw_team\n",
    "\n",
    "get_players(66) #crée le data frame de l'effectif\n",
    "draw_team(66) #crée une représentation de l'effectif par poste "
   ]
  },
  {
   "cell_type": "markdown",
   "metadata": {},
   "source": [
    "Nous avons ainsi pu extraire des informations essentielles sur les joueurs de Manchester United. Toutefois, le plan gratuit ne nous permet pas d'accéder à la valeur marchande des joueurs, pourtant centrale dans notre projet. Il sera donc nécessaire d'utiliser d'autres moyens pour l'obtenir. C'est ce que nous allons voir désormais."
   ]
  },
  {
   "cell_type": "markdown",
   "metadata": {},
   "source": [
    "<a id=\"scraping-des-données-de-valeur-marchande\"></a>\n",
    "### <u>Scraping des données de valeur marchande </u>\n",
    "\n",
    "''' Là Roman raconte sa partie'''"
   ]
  },
  {
   "cell_type": "code",
   "execution_count": null,
   "metadata": {},
   "outputs": [],
   "source": [
    "'''Code de Roman sur la partie valeur marchande\n",
    "\n",
    "Scraping plus court donc à voir si on fait tourner ou pas (question de reproductibilité)'''"
   ]
  },
  {
   "cell_type": "markdown",
   "metadata": {},
   "source": [
    "<a id=\"scraping-depuis-fbref\"></a>\n",
    "### <u> Scraping des données de performances depuis FBref </u>\n",
    "\n",
    "'''Là Lenny tu peux expliquer tes méthodes de scraping, tes choix, difficultés rencontrées, manières de les contourner...'''\n",
    "\n",
    "\n"
   ]
  },
  {
   "cell_type": "code",
   "execution_count": null,
   "metadata": {},
   "outputs": [],
   "source": [
    "'''Code de Lenny pour le montrer au correcteur sans le faire tourner car il est long mdrr\n",
    "\n",
    "Mettre le data frame csv dans un fichier csv et le lire avec pandas'''"
   ]
  },
  {
   "cell_type": "markdown",
   "metadata": {},
   "source": [
    "<a id=\"cartographie\"></a>\n",
    "### <u>Cartographie </u>\n",
    "\n",
    "Dans le cadre de notre projet, nous avons aussi souhaité réutiliser des méthodes que nous avions découvertes lors du cours de *Python pour la data science*. C'est pourquoi nous avons voulu créer une nouvelle carte des stades de Ligue 1 et Ligue 2, actualisée à la saison 2024/2025, en distinguant les stades appartenant à des clubs de Ligue 1 et de Ligue 2."
   ]
  },
  {
   "cell_type": "code",
   "execution_count": null,
   "metadata": {},
   "outputs": [],
   "source": [
    "from mapping import retrieve_all_stadium_from_league\n",
    "\n",
    "\n",
    "# URLs for different divisions\n",
    "url_list = {\n",
    "    \"L1\": \"http://fr.wikipedia.org/wiki/Championnat_de_France_de_football_2024-2025\",\n",
    "    \"L2\": \"https://fr.wikipedia.org/wiki/Championnat_de_France_de_football_de_deuxi%C3%A8me_division_2024-2025\",\n",
    "}\n",
    "\n",
    "# Retrieve stadiums information for Ligue 1\n",
    "stades_ligue1 = retrieve_all_stadium_from_league(url_list, \"L1\")\n",
    "stades_ligue2 = retrieve_all_stadium_from_league(url_list, \"L2\")\n",
    "\n",
    "stades = pd.concat([stades_ligue1, stades_ligue2])\n",
    "\n",
    "stades = stades.dropna(subset=[\"latitude\", \"longitude\"])\n",
    "stades.loc[:, [\"latitude\", \"longitude\"]] = stades.loc[\n",
    "    :, [\"latitude\", \"longitude\"]\n",
    "].astype(float)\n",
    "stadium_locations = gpd.GeoDataFrame(\n",
    "    stades, geometry=gpd.points_from_xy(stades.longitude, stades.latitude)\n",
    ")\n",
    "\n",
    "center = stadium_locations[[\"latitude\", \"longitude\"]].mean().values.tolist()\n",
    "sw = stadium_locations[[\"latitude\", \"longitude\"]].min().values.tolist()\n",
    "ne = stadium_locations[[\"latitude\", \"longitude\"]].max().values.tolist()\n",
    "\n",
    "m = folium.Map(location=center, tiles=\"openstreetmap\")\n",
    "\n",
    "# I can add marker one by one on the map\n",
    "for i in range(0, len(stadium_locations)):\n",
    "    row = stadium_locations.iloc[i]\n",
    "    color = \"blue\" if row[\"division\"] == \"L1\" else \"green\"\n",
    "    folium.Marker(\n",
    "        [stadium_locations.iloc[i][\"latitude\"], stadium_locations.iloc[i][\"longitude\"]],\n",
    "        popup=stadium_locations.iloc[i][\"stade\"],  icon=folium.Icon(color=color)\n",
    "    ).add_to(m)\n",
    "\n",
    "m.fit_bounds([sw, ne])\n",
    "m.save(\"stadiums_map.html\")\n",
    "webbrowser.open(\"stadiums_map.html\")"
   ]
  },
  {
   "cell_type": "markdown",
   "metadata": {},
   "source": [
    "<a id=\"statistiques-descriptives\"></a>\n",
    "## <u>3. Statistiques descriptives</u>\n",
    "\n",
    "Il s'agit désormais d'utiliser les données que nous avons récupérées afin de mieux comprendre certains enjeux liés aux transferts de joueurs. "
   ]
  }
 ],
 "metadata": {
  "kernelspec": {
   "display_name": "Python 3",
   "language": "python",
   "name": "python3"
  },
  "language_info": {
   "codemirror_mode": {
    "name": "ipython",
    "version": 3
   },
   "file_extension": ".py",
   "mimetype": "text/x-python",
   "name": "python",
   "nbconvert_exporter": "python",
   "pygments_lexer": "ipython3",
   "version": "3.12.8"
  }
 },
 "nbformat": 4,
 "nbformat_minor": 2
}
